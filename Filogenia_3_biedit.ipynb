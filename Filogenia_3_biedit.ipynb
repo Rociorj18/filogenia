{
 "cells": [
  {
   "cell_type": "markdown",
   "id": "7da28bba-ba72-407d-a6fa-8cd52386b0c1",
   "metadata": {},
   "source": [
    "  1. En este caso vamos a modificar los nombres de las secuencias de canarias.\n",
    "\n",
    "El nombre al inicio es así:**>NX300_Guayadeque_Forsskaolea angustifolia**, en este caso: va a cabar así \n",
    "**\">Forsskaolea angustifolia_Guayadeque\"**."
   ]
  },
  {
   "cell_type": "code",
   "execution_count": 1,
   "id": "8dfcc291-4b9f-49eb-a560-0d4a3abf571a",
   "metadata": {},
   "outputs": [
    {
     "ename": "FileNotFoundError",
     "evalue": "[Errno 2] No such file or directory: '/content/prueba'",
     "output_type": "error",
     "traceback": [
      "\u001b[1;31m---------------------------------------------------------------------------\u001b[0m",
      "\u001b[1;31mFileNotFoundError\u001b[0m                         Traceback (most recent call last)",
      "Cell \u001b[1;32mIn[1], line 2\u001b[0m\n\u001b[0;32m      1\u001b[0m \u001b[38;5;66;03m# Abrir el archivo de entrada y crear uno nuevo para escribir los resultados\u001b[39;00m\n\u001b[1;32m----> 2\u001b[0m \u001b[38;5;28;01mwith\u001b[39;00m \u001b[38;5;28mopen\u001b[39m(\u001b[38;5;124m\"\u001b[39m\u001b[38;5;124m/content/prueba\u001b[39m\u001b[38;5;124m\"\u001b[39m, \u001b[38;5;124m\"\u001b[39m\u001b[38;5;124mr\u001b[39m\u001b[38;5;124m\"\u001b[39m) \u001b[38;5;28;01mas\u001b[39;00m archivo_entrada, \u001b[38;5;28mopen\u001b[39m(\u001b[38;5;124m\"\u001b[39m\u001b[38;5;124marchivo_modificado.txt\u001b[39m\u001b[38;5;124m\"\u001b[39m, \u001b[38;5;124m\"\u001b[39m\u001b[38;5;124mw\u001b[39m\u001b[38;5;124m\"\u001b[39m) \u001b[38;5;28;01mas\u001b[39;00m archivo_salida:\n\u001b[0;32m      3\u001b[0m     \u001b[38;5;66;03m# Iterar sobre cada línea en el archivo de entrada\u001b[39;00m\n\u001b[0;32m      4\u001b[0m     \u001b[38;5;28;01mfor\u001b[39;00m linea \u001b[38;5;129;01min\u001b[39;00m archivo_entrada:\n\u001b[0;32m      5\u001b[0m         \u001b[38;5;66;03m# Verificar si la línea comienza con \">\"\u001b[39;00m\n\u001b[0;32m      6\u001b[0m         \u001b[38;5;28;01mif\u001b[39;00m linea\u001b[38;5;241m.\u001b[39mstartswith(\u001b[38;5;124m\"\u001b[39m\u001b[38;5;124m>\u001b[39m\u001b[38;5;124m\"\u001b[39m):\n\u001b[0;32m      7\u001b[0m             \u001b[38;5;66;03m# Encontrar la posición del primer guion bajo \"_\"\u001b[39;00m\n",
      "File \u001b[1;32m~\\AppData\\Local\\anaconda3\\Lib\\site-packages\\IPython\\core\\interactiveshell.py:310\u001b[0m, in \u001b[0;36m_modified_open\u001b[1;34m(file, *args, **kwargs)\u001b[0m\n\u001b[0;32m    303\u001b[0m \u001b[38;5;28;01mif\u001b[39;00m file \u001b[38;5;129;01min\u001b[39;00m {\u001b[38;5;241m0\u001b[39m, \u001b[38;5;241m1\u001b[39m, \u001b[38;5;241m2\u001b[39m}:\n\u001b[0;32m    304\u001b[0m     \u001b[38;5;28;01mraise\u001b[39;00m \u001b[38;5;167;01mValueError\u001b[39;00m(\n\u001b[0;32m    305\u001b[0m         \u001b[38;5;124mf\u001b[39m\u001b[38;5;124m\"\u001b[39m\u001b[38;5;124mIPython won\u001b[39m\u001b[38;5;124m'\u001b[39m\u001b[38;5;124mt let you open fd=\u001b[39m\u001b[38;5;132;01m{\u001b[39;00mfile\u001b[38;5;132;01m}\u001b[39;00m\u001b[38;5;124m by default \u001b[39m\u001b[38;5;124m\"\u001b[39m\n\u001b[0;32m    306\u001b[0m         \u001b[38;5;124m\"\u001b[39m\u001b[38;5;124mas it is likely to crash IPython. If you know what you are doing, \u001b[39m\u001b[38;5;124m\"\u001b[39m\n\u001b[0;32m    307\u001b[0m         \u001b[38;5;124m\"\u001b[39m\u001b[38;5;124myou can use builtins\u001b[39m\u001b[38;5;124m'\u001b[39m\u001b[38;5;124m open.\u001b[39m\u001b[38;5;124m\"\u001b[39m\n\u001b[0;32m    308\u001b[0m     )\n\u001b[1;32m--> 310\u001b[0m \u001b[38;5;28;01mreturn\u001b[39;00m io_open(file, \u001b[38;5;241m*\u001b[39margs, \u001b[38;5;241m*\u001b[39m\u001b[38;5;241m*\u001b[39mkwargs)\n",
      "\u001b[1;31mFileNotFoundError\u001b[0m: [Errno 2] No such file or directory: '/content/prueba'"
     ]
    }
   ],
   "source": [
    "# Abrir el archivo de entrada y crear uno nuevo para escribir los resultados\n",
    "with open(\"/content/prueba\", \"r\") as archivo_entrada, open(\"archivo_modificado.txt\", \"w\") as archivo_salida:\n",
    "    # Iterar sobre cada línea en el archivo de entrada\n",
    "    for linea in archivo_entrada:\n",
    "        # Verificar si la línea comienza con \">\"\n",
    "        if linea.startswith(\">\"):\n",
    "            # Encontrar la posición del primer guion bajo \"_\"\n",
    "            indice_guion_bajo = linea.find(\"_\")\n",
    "            # Extraer el identificador después del primer guion bajo\n",
    "            nuevo_identificador = linea[indice_guion_bajo + 1:].strip()\n",
    "            # Escribir el nuevo identificador en el archivo de salida\n",
    "            archivo_salida.write(\">\" + nuevo_identificador + \"\\n\")\n",
    "        else:\n",
    "            # Escribir otras líneas sin modificar en el archivo de salida\n",
    "            archivo_salida.write(linea)\n",
    "\n",
    "# Abrir el archivo de texto para lectura\n",
    "with open('archivo_modificado.txt', 'r') as archivo:\n",
    "    lineas = archivo.readlines()\n",
    "\n",
    "# Abrir un nuevo archivo para escribir los resultados\n",
    "with open('trnlarchivo_modificado.txt', 'w') as archivo_modificado:\n",
    "    for linea in lineas:\n",
    "        if linea.startswith('>'):\n",
    "            # Dividir el identificador y el texto antes del primer guion bajo\n",
    "            identificador, texto_extra = linea.strip().split('_', 1)\n",
    "            # Escribir el identificador modificado al archivo\n",
    "            archivo_modificado.write(f\">{texto_extra.strip()}_{identificador[1:]}\\n\")\n",
    "        else:\n",
    "            # Escribir la secuencia de ADN al archivo sin cambios\n",
    "            archivo_modificado.write(linea)\n",
    "\n"
   ]
  },
  {
   "cell_type": "markdown",
   "id": "813bedc0-ad9b-4faa-bcfc-ef12a08cf303",
   "metadata": {},
   "source": [
    "2. Una vez preparadas las secuencias con el mismo numero de secuencias por marcadores debemos añadir las especies canarias del script anterior .\n",
    "Para esto debemos darle a File > import > sequences y añadir el archivo de las nuevas. Estas se añadiran al final del alineamiento. "
   ]
  },
  {
   "cell_type": "markdown",
   "id": "14961ed5-555e-4b69-931e-c073ad861ee5",
   "metadata": {},
   "source": [
    "3. DEBEMOS ALINEAR LAS SECUENCIAS CON EL CLUSTAL DEL BIOEDIT."
   ]
  },
  {
   "cell_type": "markdown",
   "id": "cfe05ede-279d-4c0e-8bd1-646adcacf935",
   "metadata": {},
   "source": [
    "4. Hay que volver a utilizar el script para añadir \"?\" al inicio y al final:"
   ]
  },
  {
   "cell_type": "code",
   "execution_count": null,
   "id": "b15506a5-ba1e-4e4e-baeb-7f5cf626cbe4",
   "metadata": {},
   "outputs": [],
   "source": [
    "### aaaa pasar de 60 x linea a todo en una linea y asi el script siguiente puede funcioonar bien\n",
    "# Nombre del archivo de entrada y salida\n",
    "archivo_entrada = \"/content/mod_ALIG_rps8_sinvial_completa+RUTH.txt\" ##### archivo alineado con las secuencias canarias \n",
    "archivo_salida = \"output.fasta\"\n",
    "\n",
    "# Abrir archivo de entrada y crear archivo de salida\n",
    "with open(archivo_entrada, \"r\") as f_in, open(archivo_salida, \"w\") as f_out:\n",
    "    # Variable para almacenar el identificador actual\n",
    "    identificador = None\n",
    "\n",
    "    # Iterar sobre cada línea del archivo de entrada\n",
    "    for linea in f_in:\n",
    "        # Eliminar los espacios en blanco al inicio y al final de la línea\n",
    "        linea = linea.strip()\n",
    "\n",
    "        # Verificar si la línea comienza con '>', indicando un identificador\n",
    "        if linea.startswith(\">\"):\n",
    "            # Si es un identificador, escribirlo directamente en el archivo de salida\n",
    "            if identificador is not None:\n",
    "                f_out.write(\"\\n\")  # Añadir un salto de línea antes de escribir el siguiente identificador\n",
    "            f_out.write(linea + \"\\n\")\n",
    "            identificador = linea\n",
    "        else:\n",
    "            # Si es una línea de secuencia, escribir la secuencia en una sola línea en el archivo de salida\n",
    "            f_out.write(linea)\n",
    "\n",
    "# Informar que el archivo se ha procesado exitosamente\n",
    "print(\"Se ha procesado el archivo con éxito.\")\n",
    "\n",
    "#### añade ?? emedio si estan x lineas, si es una unica linea no\n",
    "# Nombre del archivo de entrada y salida\n",
    "archivo_entrada = \"output.fasta\"\n",
    "archivo_salida = \"ouput2.fasta\"\n",
    "\n",
    "# Función para realizar las modificaciones en la secuencia\n",
    "def modificar_secuencia(secuencia):\n",
    "    # Verificar si la secuencia no está vacía y contiene caracteres distintos de '-' o '\\n'\n",
    "    if secuencia.strip('-\\n'):\n",
    "        # Modificación desde el principio hasta la primera letra\n",
    "        indice_inicio = next((i for i, char in enumerate(secuencia) if char not in ['-', '\\n']), None)\n",
    "        secuencia_modificada = '?' * indice_inicio + secuencia[indice_inicio:]\n",
    "\n",
    "        # Modificación desde la última letra hasta el final\n",
    "        secuencia_invertida = secuencia_modificada[::-1]\n",
    "        indice_fin = next((i for i, char in enumerate(secuencia_invertida) if char not in ['-', '\\n']), None)\n",
    "        secuencia_modificada_final = secuencia_invertida[:indice_fin].replace('-', '?') + secuencia_invertida[indice_fin:]\n",
    "        secuencia_modificada_final = secuencia_modificada_final[::-1]\n",
    "\n",
    "        return secuencia_modificada_final\n",
    "    else:\n",
    "        # Si la secuencia está vacía o solo contiene guiones, devolvemos la secuencia de '?' con la misma longitud\n",
    "        return '?' * len(secuencia)\n",
    "\n",
    "# Abrir archivo de entrada y crear archivo de salida\n",
    "with open(archivo_entrada, \"r\") as f_in, open(archivo_salida, \"w\") as f_out:\n",
    "    for linea in f_in:\n",
    "        # Modificar la secuencia y escribirla en el archivo de salida\n",
    "        secuencia_modificada = modificar_secuencia(linea.strip())\n",
    "        f_out.write(secuencia_modificada + \"\\n\")\n",
    "\n",
    "print(\"Se han generado las secuencias modificadas en\", archivo_salida)\n",
    "\n",
    "# Nombre del archivo de entrada y salida\n",
    "archivo_entrada = \"/content/ouput2.fasta\"\n",
    "archivo_salida = \"modifier_ALIG_matk_completa+RUTH.txt\"\n",
    "\n",
    "# Función para dividir la secuencia en líneas de 60 caracteres\n",
    "def dividir_secuencia(secuencia):\n",
    "    # Dividir la secuencia en líneas de máximo 60 caracteres\n",
    "    secuencia_dividida = '\\n'.join(secuencia[i:i+60] for i in range(0, len(secuencia), 60))\n",
    "    return secuencia_dividida\n",
    "\n",
    "# Abrir archivo de entrada y crear archivo de salida\n",
    "with open(archivo_entrada, \"r\") as f_in, open(archivo_salida, \"w\") as f_out:\n",
    "    for linea in f_in:\n",
    "        # Verificar si la línea comienza con '>', indicando un identificador\n",
    "        if linea.startswith(\">\"):\n",
    "            # Si es un identificador, escribirlo directamente en el archivo de salida\n",
    "            f_out.write(linea)\n",
    "        else:\n",
    "            # Si es una línea de secuencia, dividir la secuencia en líneas de máximo 60 caracteres y escribirla en el archivo de salida\n",
    "            secuencia_dividida = dividir_secuencia(linea.strip())\n",
    "            f_out.write(secuencia_dividida + \"\\n\")\n",
    "\n",
    "print(\"Se ha dividido la secuencia en líneas de 60 caracteres y se ha guardado en\", archivo_salida)\n"
   ]
  },
  {
   "cell_type": "markdown",
   "id": "a34bc31b-2851-43ca-a5bb-89d6b61e2385",
   "metadata": {},
   "source": [
    "5. Comprobar la longitud de las secuencias Y BORRAR \"?\" DE SOBRA. ORDENAR LAS SECUENCIAS (SORT by tittle) "
   ]
  },
  {
   "cell_type": "markdown",
   "id": "2fdb6dc1-3f2f-4870-bb80-4d14e9b88297",
   "metadata": {},
   "source": [
    "6. Debemos alinear todas las secuencias juntas. En este caso hemos pasado al muscle. Podemos hacerlo de dos formas:\n",
    "   \n",
    "            - 6A: tal cual tenemos el archivo.\n",
    "            - 6B: quitandole los gaps a la matriz: en bioedit -> sequence, degap. \n",
    "\n",
    "Una vez hecho comparamos y nos quedamos con la matriz que mejor nos parezca que está para ya hacer la filogenia. "
   ]
  }
 ],
 "metadata": {
  "kernelspec": {
   "display_name": "Python 3 (ipykernel)",
   "language": "python",
   "name": "python3"
  },
  "language_info": {
   "codemirror_mode": {
    "name": "ipython",
    "version": 3
   },
   "file_extension": ".py",
   "mimetype": "text/x-python",
   "name": "python",
   "nbconvert_exporter": "python",
   "pygments_lexer": "ipython3",
   "version": "3.11.7"
  }
 },
 "nbformat": 4,
 "nbformat_minor": 5
}
